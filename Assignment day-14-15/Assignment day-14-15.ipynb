{
 "cells": [
  {
   "cell_type": "markdown",
   "metadata": {},
   "source": [
    "# 1. Create a 3x3x3 array with random values"
   ]
  },
  {
   "cell_type": "code",
   "execution_count": 1,
   "metadata": {},
   "outputs": [],
   "source": [
    "import numpy as np"
   ]
  },
  {
   "cell_type": "code",
   "execution_count": 2,
   "metadata": {},
   "outputs": [
    {
     "name": "stdout",
     "output_type": "stream",
     "text": [
      "[[[0.54724914 0.80248609 0.36382124]\n",
      "  [0.90602058 0.94786334 0.31042467]\n",
      "  [0.08748941 0.10944808 0.66309284]]\n",
      "\n",
      " [[0.84995192 0.93102605 0.31291116]\n",
      "  [0.0810335  0.81322212 0.16999961]\n",
      "  [0.46569514 0.42207332 0.07453972]]\n",
      "\n",
      " [[0.36618758 0.84783224 0.79746468]\n",
      "  [0.39512652 0.65688198 0.05577372]\n",
      "  [0.56432983 0.59649595 0.95148625]]]\n"
     ]
    }
   ],
   "source": [
    "x = np.random.random((3,3,3))\n",
    "print(x)"
   ]
  },
  {
   "cell_type": "markdown",
   "metadata": {},
   "source": [
    "# 2.Create a 5x5 matrix with values 1,2,3,4 just below the diagonal"
   ]
  },
  {
   "cell_type": "code",
   "execution_count": 3,
   "metadata": {},
   "outputs": [
    {
     "name": "stdout",
     "output_type": "stream",
     "text": [
      "[[0 0 0 0 0]\n",
      " [1 0 0 0 0]\n",
      " [0 2 0 0 0]\n",
      " [0 0 3 0 0]\n",
      " [0 0 0 4 0]]\n"
     ]
    }
   ],
   "source": [
    "ar = np.diag(1+np.arange(4),k=-1)\n",
    "print(ar)"
   ]
  },
  {
   "cell_type": "markdown",
   "metadata": {},
   "source": [
    "# 3.Create a 8x8 matrix and fill it with a checkerboard pattern"
   ]
  },
  {
   "cell_type": "code",
   "execution_count": 4,
   "metadata": {},
   "outputs": [
    {
     "name": "stdout",
     "output_type": "stream",
     "text": [
      "[[0 1 0 1 0 1 0 1]\n",
      " [1 0 1 0 1 0 1 0]\n",
      " [0 1 0 1 0 1 0 1]\n",
      " [1 0 1 0 1 0 1 0]\n",
      " [0 1 0 1 0 1 0 1]\n",
      " [1 0 1 0 1 0 1 0]\n",
      " [0 1 0 1 0 1 0 1]\n",
      " [1 0 1 0 1 0 1 0]]\n"
     ]
    }
   ],
   "source": [
    "A = np.zeros((8,8),dtype=int)\n",
    "A[1::2,::2] = 1\n",
    "A[::2,1::2] = 1\n",
    "print(A)"
   ]
  },
  {
   "cell_type": "markdown",
   "metadata": {},
   "source": [
    "# 4. Normalize a 5x5 random matrix"
   ]
  },
  {
   "cell_type": "code",
   "execution_count": 5,
   "metadata": {},
   "outputs": [
    {
     "data": {
      "text/plain": [
       "array([[-1.04189675,  0.72565558,  1.6282933 , -0.10548711,  1.16813515],\n",
       "       [ 0.49088035, -0.87884011,  0.10400014,  0.57665787, -0.92406162],\n",
       "       [-1.4807405 ,  0.1471426 , -0.71705549,  0.87316376, -1.12940576],\n",
       "       [-1.45946348,  1.39979681, -0.57029931, -1.40394836,  1.37841197],\n",
       "       [-0.51754713, -0.22908934,  0.94779294, -0.5776505 ,  1.595555  ]])"
      ]
     },
     "execution_count": 5,
     "metadata": {},
     "output_type": "execute_result"
    }
   ],
   "source": [
    "arr = np.random.random((5,5))\n",
    "arr = (arr - np.mean (arr)) / (np.std (arr))\n",
    "arr"
   ]
  },
  {
   "cell_type": "markdown",
   "metadata": {},
   "source": [
    "# 5. How to find common values between two arrays?"
   ]
  },
  {
   "cell_type": "code",
   "execution_count": 14,
   "metadata": {},
   "outputs": [
    {
     "name": "stdout",
     "output_type": "stream",
     "text": [
      "[6 7 8]\n"
     ]
    }
   ],
   "source": [
    "A1 = np.random.randint(0,10,10)\n",
    "A2 = np.random.randint(0,10,10)\n",
    "print(np.intersect1d(A1,A2))"
   ]
  },
  {
   "cell_type": "markdown",
   "metadata": {},
   "source": [
    "# 6.How to get the dates of yesterday, today and tomorrow?"
   ]
  },
  {
   "cell_type": "code",
   "execution_count": 15,
   "metadata": {},
   "outputs": [
    {
     "name": "stdout",
     "output_type": "stream",
     "text": [
      "Yesterday:  2020-08-01\n",
      "Today:  2020-08-02\n",
      "Tomorrow 2020-08-03\n"
     ]
    }
   ],
   "source": [
    "yesterday = np.datetime64('today') - np.timedelta64(1)\n",
    "today     = np.datetime64('today')\n",
    "tomorrow  = np.datetime64('today') + np.timedelta64(1)\n",
    "print(\"Yesterday: \",yesterday)\n",
    "print(\"Today: \",today)\n",
    "print(\"Tomorrow\",tomorrow)"
   ]
  },
  {
   "cell_type": "markdown",
   "metadata": {},
   "source": [
    "# 7. Consider two random array A and B, check if they are equal"
   ]
  },
  {
   "cell_type": "code",
   "execution_count": 18,
   "metadata": {},
   "outputs": [
    {
     "name": "stdout",
     "output_type": "stream",
     "text": [
      "False\n",
      "False\n"
     ]
    }
   ],
   "source": [
    "A = np.random.randint(0,3,4)\n",
    "B = np.random.randint(0,3,4)\n",
    "equal = np.allclose(A,B)\n",
    "print(equal)\n",
    "equal = np.array_equal(A,B)\n",
    "print(equal)"
   ]
  },
  {
   "cell_type": "markdown",
   "metadata": {},
   "source": [
    "# 8.Create random vector of size 10 and replace the maximum value by 0"
   ]
  },
  {
   "cell_type": "code",
   "execution_count": 19,
   "metadata": {},
   "outputs": [
    {
     "name": "stdout",
     "output_type": "stream",
     "text": [
      "[0.         0.8159585  0.67564805 0.61195234 0.80284572 0.75073821\n",
      " 0.22056947 0.21091837 0.36530699 0.4606472 ]\n"
     ]
    }
   ],
   "source": [
    "\n",
    "X = np.random.rand(10)\n",
    "X[X.argmax()] = 0\n",
    "print(X)"
   ]
  },
  {
   "cell_type": "markdown",
   "metadata": {},
   "source": [
    "# 9. How to print all the values of an array?"
   ]
  },
  {
   "cell_type": "code",
   "execution_count": 20,
   "metadata": {},
   "outputs": [
    {
     "name": "stdout",
     "output_type": "stream",
     "text": [
      "[[0. 0. 0. 0. 0. 0. 0. 0. 0. 0.]\n",
      " [0. 0. 0. 0. 0. 0. 0. 0. 0. 0.]\n",
      " [0. 0. 0. 0. 0. 0. 0. 0. 0. 0.]\n",
      " [0. 0. 0. 0. 0. 0. 0. 0. 0. 0.]\n",
      " [0. 0. 0. 0. 0. 0. 0. 0. 0. 0.]\n",
      " [0. 0. 0. 0. 0. 0. 0. 0. 0. 0.]\n",
      " [0. 0. 0. 0. 0. 0. 0. 0. 0. 0.]\n",
      " [0. 0. 0. 0. 0. 0. 0. 0. 0. 0.]\n",
      " [0. 0. 0. 0. 0. 0. 0. 0. 0. 0.]\n",
      " [0. 0. 0. 0. 0. 0. 0. 0. 0. 0.]]\n"
     ]
    }
   ],
   "source": [
    "X = np.zeros((10,10))\n",
    "print(X)"
   ]
  },
  {
   "cell_type": "markdown",
   "metadata": {},
   "source": [
    "# 10.Subtract the mean of each row of a matrix"
   ]
  },
  {
   "cell_type": "code",
   "execution_count": 23,
   "metadata": {},
   "outputs": [
    {
     "name": "stdout",
     "output_type": "stream",
     "text": [
      "[[ 0.40644339 -0.18727889 -0.21916451]\n",
      " [-0.17993512  0.2092394  -0.02930428]\n",
      " [ 0.06327568 -0.03623623 -0.02703945]]\n",
      "[[ 0.40644339 -0.18727889 -0.21916451]\n",
      " [-0.17993512  0.2092394  -0.02930428]\n",
      " [ 0.06327568 -0.03623623 -0.02703945]]\n"
     ]
    }
   ],
   "source": [
    "X = np.random.rand(3, 3)\n",
    "Y = X - X.mean(axis=1, keepdims=True)\n",
    "Y1 = X - X.mean(axis=1).reshape(-1, 1)\n",
    "print(Y)\n",
    "print(Y1)"
   ]
  },
  {
   "cell_type": "markdown",
   "metadata": {},
   "source": [
    "# 11.Consider a given vector, how to add 1 to each element indexed by a second vector (be careful with repeated indices)?"
   ]
  },
  {
   "cell_type": "code",
   "execution_count": 26,
   "metadata": {},
   "outputs": [
    {
     "name": "stdout",
     "output_type": "stream",
     "text": [
      "[3. 4. 4. 1. 3. 4. 2. 3. 3. 3.]\n",
      "[5. 7. 7. 1. 5. 7. 3. 5. 5. 5.]\n"
     ]
    }
   ],
   "source": [
    "Z = np.ones(10)\n",
    "I = np.random.randint(0,len(Z),20)\n",
    "Z += np.bincount(I, minlength=len(Z))\n",
    "print(Z)\n",
    "np.add.at(Z, I, 1)\n",
    "print(Z)"
   ]
  },
  {
   "cell_type": "markdown",
   "metadata": {},
   "source": [
    "# 12.How to get the diagonal of a dot product?"
   ]
  },
  {
   "cell_type": "code",
   "execution_count": 27,
   "metadata": {},
   "outputs": [
    {
     "name": "stdout",
     "output_type": "stream",
     "text": [
      "[[0.66873671 0.66780849 0.1696537  0.60824961 0.8303355 ]\n",
      " [0.19509927 0.08263884 0.44995456 0.03727148 0.5043001 ]\n",
      " [0.05016046 0.13216234 0.29113361 0.48079456 0.98284143]\n",
      " [0.96599136 0.13539917 0.24956193 0.54138516 0.34362787]\n",
      " [0.97661983 0.99098076 0.4390431  0.42141165 0.11497597]]\n",
      "[[0.11309989 0.88683901 0.29874033 0.34063155 0.61249269]\n",
      " [0.86550154 0.21062688 0.79125336 0.5460644  0.47656063]\n",
      " [0.25859737 0.02726751 0.07700951 0.26857143 0.40928123]\n",
      " [0.52048459 0.78680601 0.81587296 0.31764437 0.54383984]\n",
      " [0.52072308 0.16458612 0.36048047 0.71133162 0.65041106]]\n",
      "diagonal of a dot product is.... [1.44645473 0.31502297 0.88854133 0.88641033 1.55408911]\n"
     ]
    }
   ],
   "source": [
    "A = np.random.uniform(0,1,(5,5))\n",
    "B = np.random.uniform(0,1,(5,5))\n",
    "print(A)\n",
    "print(B)\n",
    "prod1=np.diag(np.dot(A, B))\n",
    "print(\"diagonal of a dot product is....\",prod1)"
   ]
  },
  {
   "cell_type": "markdown",
   "metadata": {},
   "source": [
    "# 13.How to find the most frequent value in an array?"
   ]
  },
  {
   "cell_type": "code",
   "execution_count": 28,
   "metadata": {},
   "outputs": [
    {
     "name": "stdout",
     "output_type": "stream",
     "text": [
      "[1 1 8 6 3 3 9 2 4 3 2 5 9 8 5 9 0 2 5 7 4 4 2 0 7 1 9 6 6 4]\n",
      "2\n"
     ]
    }
   ],
   "source": [
    "C = np.random.randint(0,10,30)\n",
    "print(C)\n",
    "print(np.bincount(C).argmax())"
   ]
  },
  {
   "cell_type": "markdown",
   "metadata": {},
   "source": [
    "# 14.How to get the n largest values of an array"
   ]
  },
  {
   "cell_type": "code",
   "execution_count": 29,
   "metadata": {},
   "outputs": [
    {
     "name": "stdout",
     "output_type": "stream",
     "text": [
      "[9995 9996 9997 9998 9999]\n"
     ]
    }
   ],
   "source": [
    "Z = np.arange(10000)\n",
    "np.random.shuffle(Z)\n",
    "n = 5\n",
    "print (Z[np.argsort(Z)[-n:]])"
   ]
  },
  {
   "cell_type": "markdown",
   "metadata": {},
   "source": [
    "# 15.How to create a record array from a regular array?"
   ]
  },
  {
   "cell_type": "code",
   "execution_count": 31,
   "metadata": {},
   "outputs": [
    {
     "name": "stdout",
     "output_type": "stream",
     "text": [
      "[(b'Hello', 2.8, 4) (b'World', 3.9, 6)]\n"
     ]
    }
   ],
   "source": [
    "Z = np.array([(\"Hello\", 2.8, 4),\n",
    "              (\"World\", 3.9, 6)])\n",
    "R = np.core.records.fromarrays(Z.T,\n",
    "                               names='col1, col2, col3',\n",
    "                               formats = 'S8, f8, i8')\n",
    "print(R)"
   ]
  },
  {
   "cell_type": "code",
   "execution_count": null,
   "metadata": {},
   "outputs": [],
   "source": []
  }
 ],
 "metadata": {
  "kernelspec": {
   "display_name": "Python 3",
   "language": "python",
   "name": "python3"
  },
  "language_info": {
   "codemirror_mode": {
    "name": "ipython",
    "version": 3
   },
   "file_extension": ".py",
   "mimetype": "text/x-python",
   "name": "python",
   "nbconvert_exporter": "python",
   "pygments_lexer": "ipython3",
   "version": "3.7.6"
  }
 },
 "nbformat": 4,
 "nbformat_minor": 4
}
