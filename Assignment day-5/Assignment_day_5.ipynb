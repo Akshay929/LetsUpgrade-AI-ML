{
 "cells": [
  {
   "cell_type": "markdown",
   "metadata": {},
   "source": [
    "# Question 1 :\n",
    "Write a Python program to find the first 20 non-even prime natural numbers."
   ]
  },
  {
   "cell_type": "code",
   "execution_count": 5,
   "metadata": {},
   "outputs": [
    {
     "name": "stdout",
     "output_type": "stream",
     "text": [
      "First 20 non-even prime natural numbers are:\n",
      "  [3, 5, 7, 11, 13, 17, 19, 23, 29, 31, 37, 41, 43, 47, 53, 59, 61, 67, 71, 73]\n"
     ]
    }
   ],
   "source": [
    "prime = []\n",
    "for n in range(1,100):\n",
    "    if ((n > 2) and (len(prime) < 20)):\n",
    "        for i in range(2,n):\n",
    "            if (n%i)==0:\n",
    "                break\n",
    "        else:\n",
    "            prime.append(n)\n",
    "print(\"First 20 non-even prime natural numbers are:\\n \",prime)\n",
    "        "
   ]
  },
  {
   "cell_type": "markdown",
   "metadata": {},
   "source": [
    "# Question 2 :\n",
    "Write a Python program to implement 15 functions of string."
   ]
  },
  {
   "cell_type": "code",
   "execution_count": 54,
   "metadata": {},
   "outputs": [
    {
     "name": "stdout",
     "output_type": "stream",
     "text": [
      "I am learning AIML in 2020\n",
      "I am learning aiml in 2020\n",
      "i am learning aiml in 2020\n",
      "               I am learning AIML in 2020              \n",
      "2\n",
      "True\n",
      "10\n",
      "2\n",
      "False\n",
      "False\n",
      "False\n",
      "False\n",
      "i am learning aiml in 2020\n",
      "I am learnin yearg AIML in year 2020\n",
      "False\n",
      "I Am Learning Aiml In 2020\n",
      "True\n"
     ]
    }
   ],
   "source": [
    "string = \"I am learning AIML in 2020\"\n",
    "print(string)\n",
    "print(string.capitalize())\n",
    "print(string.casefold())\n",
    "print(string.center(55))\n",
    "print(string.count(\"20\"))\n",
    "print(string.endswith('2020'))\n",
    "print(string.find('in'))\n",
    "print(string.index('am'))\n",
    "print(string.islower())\n",
    "print(string.isnumeric())\n",
    "print(string.isdecimal())\n",
    "print(string.istitle())\n",
    "print(string.lower())\n",
    "print(string.replace('in','in year'))\n",
    "print(string.isupper())\n",
    "print(string.title())\n",
    "print(string.isprintable())"
   ]
  },
  {
   "cell_type": "markdown",
   "metadata": {},
   "source": [
    "# Question 3:\n",
    "Write a Python program to check if the given string is a Palindrome or Anagram or None of them.\n",
    "Display the message accordingly to the user."
   ]
  },
  {
   "cell_type": "code",
   "execution_count": 22,
   "metadata": {},
   "outputs": [
    {
     "name": "stdout",
     "output_type": "stream",
     "text": [
      "Enter String1:mom\n",
      "Given string is a Palindrome\n"
     ]
    }
   ],
   "source": [
    "s1 = str(input(\"Enter String1:\"))\n",
    "if s1 == s1[::-1]:\n",
    "    print(\"Given string is a Palindrome\")\n",
    "elif (sorted(s1)== sorted(s1)):\n",
    "    print(\"Given string is a Anagram\")\n",
    "else:\n",
    "    print(\"None of the above\")"
   ]
  },
  {
   "cell_type": "code",
   "execution_count": 23,
   "metadata": {},
   "outputs": [
    {
     "name": "stdout",
     "output_type": "stream",
     "text": [
      "Enter String:hello\n",
      "Given string is a Anagram\n"
     ]
    }
   ],
   "source": [
    "s1 = str(input(\"Enter String:\"))\n",
    "if s1 == s1[::-1]:\n",
    "    print(\"Given string is a Palindrome\")\n",
    "elif (sorted(s1)== sorted(s1)):\n",
    "    print(\"Given string is a Anagram\")\n",
    "else:\n",
    "    print(\"None of the above\")"
   ]
  },
  {
   "cell_type": "markdown",
   "metadata": {},
   "source": [
    "# Question 4:\n",
    "Write a Python's user defined function that removes all the additional characters from the string\n",
    "and converts it finally to lower case using built-in lower(). eg: If the string is \"Dr. Darshan Ingle\n",
    "@AI-ML Trainer\", then the output be \"drdarshaningleaimltrainer\"."
   ]
  },
  {
   "cell_type": "code",
   "execution_count": 4,
   "metadata": {},
   "outputs": [
    {
     "name": "stdout",
     "output_type": "stream",
     "text": [
      "questionnumber4inassignmentday510jl2020"
     ]
    }
   ],
   "source": [
    "string = \"Question Number-4 in Assignment_day_5 !? 10 Jl 2020\"\n",
    "def rem(string):\n",
    "    for character in string:\n",
    "        if character.isalnum():\n",
    "            alphanumeric= character.lower()\n",
    "            print(alphanumeric,end=\"\")\n",
    "rem(string)"
   ]
  }
 ],
 "metadata": {
  "kernelspec": {
   "display_name": "Python 3",
   "language": "python",
   "name": "python3"
  },
  "language_info": {
   "codemirror_mode": {
    "name": "ipython",
    "version": 3
   },
   "file_extension": ".py",
   "mimetype": "text/x-python",
   "name": "python",
   "nbconvert_exporter": "python",
   "pygments_lexer": "ipython3",
   "version": "3.7.6"
  }
 },
 "nbformat": 4,
 "nbformat_minor": 4
}
