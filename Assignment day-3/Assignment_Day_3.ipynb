{
 "cells": [
  {
   "cell_type": "markdown",
   "metadata": {},
   "source": [
    "# Question 1 :\n",
    "Write a program to subtract two complex numbers in Python."
   ]
  },
  {
   "cell_type": "code",
   "execution_count": 1,
   "metadata": {},
   "outputs": [
    {
     "name": "stdout",
     "output_type": "stream",
     "text": [
      "Subtraction of a and b:  (1+4j)\n"
     ]
    }
   ],
   "source": [
    "#Subtraction of two complex numbers\n",
    "a = 3+8j\n",
    "b = 2+4j\n",
    "c = a-b\n",
    "print(\"Subtraction of a and b: \",c)"
   ]
  },
  {
   "cell_type": "code",
   "execution_count": 2,
   "metadata": {},
   "outputs": [
    {
     "data": {
      "text/plain": [
       "complex"
      ]
     },
     "execution_count": 2,
     "metadata": {},
     "output_type": "execute_result"
    }
   ],
   "source": [
    "type(c)"
   ]
  },
  {
   "cell_type": "markdown",
   "metadata": {},
   "source": [
    "# Question 2 :\n",
    "Write a program to find the fourth root of a number."
   ]
  },
  {
   "cell_type": "code",
   "execution_count": 10,
   "metadata": {},
   "outputs": [
    {
     "data": {
      "text/plain": [
       "3.0"
      ]
     },
     "execution_count": 10,
     "metadata": {},
     "output_type": "execute_result"
    }
   ],
   "source": [
    "n= 81\n",
    "pow(n,1/4)"
   ]
  },
  {
   "cell_type": "markdown",
   "metadata": {},
   "source": [
    "# Question 3:\n",
    "Write a program to swap two numbers in Python with the help of a temporary variable."
   ]
  },
  {
   "cell_type": "code",
   "execution_count": 11,
   "metadata": {},
   "outputs": [
    {
     "name": "stdout",
     "output_type": "stream",
     "text": [
      "Before swap value of a=  10 value of b=  8\n",
      "After swap value of a=  8 value of b=  10\n"
     ]
    }
   ],
   "source": [
    "a = 10\n",
    "b = 8\n",
    "print(\"Before swap value of a= \",a,\"value of b= \",b)\n",
    "temp = a\n",
    "a = b\n",
    "b = temp\n",
    "print(\"After swap value of a= \",a,\"value of b= \",b)"
   ]
  },
  {
   "cell_type": "markdown",
   "metadata": {},
   "source": [
    "# Question 4:\n",
    "Write a program to swap two numbers in Python without using a temporary variable."
   ]
  },
  {
   "cell_type": "code",
   "execution_count": 13,
   "metadata": {},
   "outputs": [
    {
     "name": "stdout",
     "output_type": "stream",
     "text": [
      "Before swap value of a=  55 value of b=  45\n",
      "After swap value of a=  45 value of b=  55\n"
     ]
    }
   ],
   "source": [
    "a = 55\n",
    "b = 45\n",
    "print(\"Before swap value of a= \",a,\"value of b= \",b)\n",
    "a,b = b,a\n",
    "print(\"After swap value of a= \",a,\"value of b= \",b)"
   ]
  },
  {
   "cell_type": "markdown",
   "metadata": {},
   "source": [
    "# Question 5:\n",
    "Write a program to convert fahrenheit to kelvin and celsius both."
   ]
  },
  {
   "cell_type": "code",
   "execution_count": 4,
   "metadata": {},
   "outputs": [
    {
     "name": "stdout",
     "output_type": "stream",
     "text": [
      "Enter temperature value in fahrenheit: 50\n",
      "Given value in Kelvin is:  283.15\n",
      "Given value in Celsius is:  10.0\n"
     ]
    }
   ],
   "source": [
    "# fahrenheit = f, Kelvin = k, celcius=c\n",
    "f = float(input(\"Enter temperature value in fahrenheit: \"))\n",
    "k = ((f-32)*5/9)+273.15\n",
    "print(\"Given value in Kelvin is: \",k)\n",
    "c = (f-32)*5/9\n",
    "print(\"Given value in Celsius is: \",c)"
   ]
  },
  {
   "cell_type": "markdown",
   "metadata": {},
   "source": [
    "# Question 6:\n",
    "Write a program to demonstrate all the available data types in Python. Hint: Use type() function."
   ]
  },
  {
   "cell_type": "code",
   "execution_count": 26,
   "metadata": {},
   "outputs": [
    {
     "name": "stdout",
     "output_type": "stream",
     "text": [
      "a is: <class 'int'>\n",
      "b is: <class 'float'>\n",
      "c is: <class 'tuple'>\n",
      "d is: <class 'list'>\n",
      "e is: <class 'complex'>\n",
      "f is: <class 'str'>\n",
      "g is: <class 'dict'>\n",
      "h is: <class 'set'>\n",
      "i is: <class 'bool'>\n"
     ]
    }
   ],
   "source": [
    "a = 123\n",
    "print(\"a is:\",type(a))\n",
    "b = 22.5\n",
    "print(\"b is:\",type(b))\n",
    "c = (1,2,3)\n",
    "print(\"c is:\",type(c))\n",
    "d = [1,'akshay',2.1,55,(2,2)]\n",
    "print(\"d is:\",type(d))\n",
    "e = 3+22j\n",
    "print(\"e is:\",type(e))\n",
    "f = \"hi there\"\n",
    "print(\"f is:\",type(f))\n",
    "g = {a:22,b:'abc'}\n",
    "print(\"g is:\",type(g))\n",
    "h = ({1,2,'abc',(a,9),22.2})\n",
    "print(\"h is:\",type(h))\n",
    "i = not(1)\n",
    "print(\"i is:\",type(i))"
   ]
  },
  {
   "cell_type": "markdown",
   "metadata": {},
   "source": [
    "# Question 7:\n",
    "Create a Markdown cell in jupyter and list the steps discussed in the session by Dr. Darshan\n",
    "Ingle sir to create Github profile and upload Githubs Assignment link."
   ]
  },
  {
   "cell_type": "markdown",
   "metadata": {},
   "source": [
    "__Steps to create Githubs profile__\n",
    "\n",
    "Step-1: Signup to Githubs using email provided in LetsUpgrade.\n",
    "\n",
    "Step-2: Creat a new Repositories and name it as LetsUpgrade AI-ML, write Assignments in the Decription space below and check the view for public.\n",
    "\n",
    "Step-3: click on creat Repository, then it will be created with given name.\n",
    "\n",
    "\n",
    "Step-4: Upload the Assignments by drag-n-drop or by selecting folder created for each assignment given dailywise manner.\n",
    "\n",
    "\n",
    "Step-5: Copy the ULR of the folder and paste it in LetsUpgrade assignment Submission form of that day."
   ]
  },
  {
   "cell_type": "code",
   "execution_count": null,
   "metadata": {},
   "outputs": [],
   "source": []
  }
 ],
 "metadata": {
  "kernelspec": {
   "display_name": "Python 3",
   "language": "python",
   "name": "python3"
  },
  "language_info": {
   "codemirror_mode": {
    "name": "ipython",
    "version": 3
   },
   "file_extension": ".py",
   "mimetype": "text/x-python",
   "name": "python",
   "nbconvert_exporter": "python",
   "pygments_lexer": "ipython3",
   "version": "3.7.6"
  }
 },
 "nbformat": 4,
 "nbformat_minor": 4
}
